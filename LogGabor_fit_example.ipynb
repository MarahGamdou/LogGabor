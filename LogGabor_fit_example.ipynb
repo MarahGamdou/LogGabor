{
 "cells": [
  {
   "cell_type": "markdown",
   "metadata": {},
   "source": [
    "# LogGabor user guide\n",
    "\n",
    "\n",
    "Table of content\n",
    "----------------\n",
    "\n",
    "* [What is the LogGabor package?](LogGabor.ipynb#What-is-the-LogGabor-package?) \n",
    "\n",
    "* [Installing](LogGabor.ipynb#Install) \n",
    "\n",
    "* [Importing the library](LogGabor.ipynb#Importing-the-library)\n",
    "\n",
    "* [Properties of log-Gabor filters](LogGabor.ipynb#Properties-of-log-Gabor-filters)\n",
    "\n",
    "* [Testing filter generation](LogGabor_testing-filter-generation.ipynb) \n",
    "\n",
    "* [Testing on a sample image](LogGabor.ipynb#Testing-on-a-sample-image) \n",
    "\n",
    "* [Building a pyramid](LogGabor_making-a-pyramid.ipynb) \n",
    "\n",
    "* [An example of fitting images with log-Gabor filters](LogGabor_fit-example.ipynb) "
   ]
  },
  {
   "cell_type": "markdown",
   "metadata": {},
   "source": [
    "## Importing the library"
   ]
  },
  {
   "cell_type": "code",
   "execution_count": 1,
   "metadata": {
    "ExecuteTime": {
     "end_time": "2018-06-20T15:16:43.796812Z",
     "start_time": "2018-06-20T15:16:42.763544Z"
    }
   },
   "outputs": [],
   "source": [
    "%load_ext autoreload\n",
    "%autoreload 2\n",
    "from LogGabor import LogGabor\n",
    "\n",
    "parameterfile = (\n",
    "    \"https://raw.githubusercontent.com/bicv/LogGabor/master/default_param.py\"\n",
    ")\n",
    "lg = LogGabor(parameterfile)\n",
    "lg.set_size((32, 32))"
   ]
  },
  {
   "cell_type": "markdown",
   "metadata": {},
   "source": [
    "To install the dependencies related to running this notebook, see [Installing notebook dependencies](#Installing-notebook-dependencies)."
   ]
  },
  {
   "cell_type": "markdown",
   "metadata": {},
   "source": [
    "[Back to top](#LogGabor-user-guide)"
   ]
  },
  {
   "cell_type": "code",
   "execution_count": 2,
   "metadata": {
    "ExecuteTime": {
     "end_time": "2018-06-20T15:16:43.819100Z",
     "start_time": "2018-06-20T15:16:43.798623Z"
    }
   },
   "outputs": [],
   "source": [
    "import os\n",
    "import numpy as np\n",
    "\n",
    "np.set_printoptions(formatter={\"float\": \"{: 0.3f}\".format})\n",
    "%matplotlib inline\n",
    "import matplotlib.pyplot as plt\n",
    "\n",
    "fig_width = 12\n",
    "figsize = (fig_width, 0.618 * fig_width)"
   ]
  },
  {
   "cell_type": "markdown",
   "metadata": {},
   "source": [
    "### Perspectives: Better fits of the filters\n",
    "\n",
    "Basically, it is possible to infer the best possible log-Gabor function, even if it's parameters do not fall on the grid\n"
   ]
  },
  {
   "cell_type": "markdown",
   "metadata": {},
   "source": [
    "Defining a reference log-gabor  (look in the corners!)"
   ]
  },
  {
   "cell_type": "code",
   "execution_count": 3,
   "metadata": {
    "ExecuteTime": {
     "end_time": "2018-06-20T15:16:44.504699Z",
     "start_time": "2018-06-20T15:16:43.821115Z"
    }
   },
   "outputs": [
    {
     "name": "stdout",
     "output_type": "stream",
     "text": [
      "initial_guess : [15, 9, 0.26179938779914935, 0.12435117250106024] , idx : (15, 9, 13, 3)\n",
      "popt : [ 14.619  8.855  0.212  0.102] , true :  14.6 8.5 0.20943951023931953 0.1\n"
     ]
    },
    {
     "data": {
      "image/png": "[encoded data removed]",
      "text/plain": [
       "<Figure size 1080x360 with 3 Axes>"
      ]
     },
     "metadata": {
      "needs_background": "light"
     },
     "output_type": "display_data"
    }
   ],
   "source": [
    "def twoD_Gaussian(xy, x_pos, y_pos, theta, sf_0):\n",
    "    FT_lg = lg.loggabor(\n",
    "        x_pos,\n",
    "        y_pos,\n",
    "        sf_0=np.absolute(sf_0),\n",
    "        B_sf=lg.pe.B_sf,\n",
    "        theta=theta,\n",
    "        B_theta=lg.pe.B_theta,\n",
    "    )\n",
    "    return lg.invert(FT_lg).ravel()\n",
    "\n",
    "\n",
    "# Create x and y indices\n",
    "x = np.arange(lg.pe.N_X)\n",
    "y = np.arange(lg.pe.N_Y)\n",
    "x, y = xy = np.meshgrid(x, y)\n",
    "\n",
    "# create data\n",
    "x_pos, y_pos, theta, sf_0 = 14.6, 8.5, 12 * np.pi / 180.0, 0.1\n",
    "data = twoD_Gaussian(xy, x_pos, y_pos, theta=theta, sf_0=sf_0)\n",
    "\n",
    "\n",
    "# plot twoD_Gaussian data generated above\n",
    "# plt.figure()\n",
    "# plt.imshow(data.reshape(lg.pe.N_X, lg.pe.N_Y))\n",
    "# plt.colorbar()\n",
    "\n",
    "# add some noise to the data and try to fit the data generated beforehand\n",
    "data /= np.abs(data).max()\n",
    "data_noisy = data + 0.25 * np.random.normal(size=data.shape)\n",
    "# getting best match\n",
    "C = lg.linear_pyramid(data_noisy.reshape(lg.pe.N_X, lg.pe.N_Y))\n",
    "idx = lg.argmax(C)\n",
    "initial_guess = [idx[0], idx[1], lg.theta[idx[2]], lg.sf_0[idx[3]]]\n",
    "print(\"initial_guess :\", initial_guess, \", idx :\", idx)\n",
    "\n",
    "import scipy.optimize as opt\n",
    "\n",
    "popt, pcov = opt.curve_fit(twoD_Gaussian, xy, data_noisy, p0=initial_guess)\n",
    "\n",
    "data_fitted = twoD_Gaussian(xy, *popt)\n",
    "\n",
    "extent = (0, lg.pe.N_X, 0, lg.pe.N_Y)\n",
    "print(\"popt :\", popt, \", true : \", x_pos, y_pos, theta, sf_0)\n",
    "fig, axs = plt.subplots(1, 3, figsize=(15, 5))\n",
    "_ = axs[0].contourf(\n",
    "    data.reshape(lg.pe.N_X, lg.pe.N_Y),\n",
    "    8,\n",
    "    extent=extent,\n",
    "    cmap=plt.cm.viridis,\n",
    "    origin=\"upper\",\n",
    ")\n",
    "_ = axs[1].imshow(\n",
    "    data_noisy.reshape(lg.pe.N_X, lg.pe.N_Y), cmap=plt.cm.viridis, extent=extent\n",
    ")\n",
    "_ = axs[2].contourf(\n",
    "    data_fitted.reshape(lg.pe.N_X, lg.pe.N_Y),\n",
    "    8,\n",
    "    extent=extent,\n",
    "    cmap=plt.cm.viridis,\n",
    "    origin=\"upper\",\n",
    ")\n",
    "for ax in axs:\n",
    "    ax.axis(\"equal\")"
   ]
  },
  {
   "cell_type": "markdown",
   "metadata": {},
   "source": [
    "[Back to top](#LogGabor-user-guide)"
   ]
  },
  {
   "cell_type": "markdown",
   "metadata": {},
   "source": [
    "## performing a fit"
   ]
  },
  {
   "cell_type": "code",
   "execution_count": 4,
   "metadata": {
    "ExecuteTime": {
     "end_time": "2018-06-20T15:16:45.394690Z",
     "start_time": "2018-06-20T15:16:44.506687Z"
    },
    "scrolled": true
   },
   "outputs": [],
   "source": [
    "from LogGabor import LogGaborFit\n",
    "\n",
    "lg = LogGaborFit(parameterfile)\n",
    "lg.set_size((32, 32))\n",
    "\n",
    "x_pos, y_pos, theta, sf_0 = 14.6, 8.5, 12 * np.pi / 180.0, 0.1\n",
    "data = lg.invert(\n",
    "    lg.loggabor(\n",
    "        x_pos,\n",
    "        y_pos,\n",
    "        sf_0=np.absolute(sf_0),\n",
    "        B_sf=lg.pe.B_sf,\n",
    "        theta=theta,\n",
    "        B_theta=lg.pe.B_theta,\n",
    "    )\n",
    ")\n",
    "data /= np.abs(data).max()\n",
    "data_noisy = data + 0.25 * np.random.normal(size=data.shape)\n",
    "\n",
    "\n",
    "data_fitted, params = lg.LogGaborFit(data_noisy.reshape(lg.pe.N_X, lg.pe.N_Y))"
   ]
  },
  {
   "cell_type": "code",
   "execution_count": 5,
   "metadata": {
    "ExecuteTime": {
     "end_time": "2018-06-20T15:16:45.418079Z",
     "start_time": "2018-06-20T15:16:45.396784Z"
    }
   },
   "outputs": [
    {
     "data": {
      "text/plain": [
       "(32, 32)"
      ]
     },
     "execution_count": 5,
     "metadata": {},
     "output_type": "execute_result"
    }
   ],
   "source": [
    "data_fitted.shape"
   ]
  },
  {
   "cell_type": "code",
   "execution_count": 6,
   "metadata": {
    "ExecuteTime": {
     "end_time": "2018-06-20T15:16:45.442571Z",
     "start_time": "2018-06-20T15:16:45.421098Z"
    }
   },
   "outputs": [
    {
     "name": "stdout",
     "output_type": "stream",
     "text": [
      "Name        Value      Min      Max   Stderr     Vary     Expr Brute_Step\n",
      "B_sf       0.3755    0.001      inf  0.01536     True     None     None\n",
      "B_theta    0.1684    0.001      inf 0.007364     True     None     None\n",
      "phase     -0.2989     -inf      inf   0.1059     True     None     None\n",
      "sf_0       0.1011    0.001      inf 0.001795     True     None     None\n",
      "theta      0.2045   -1.571    1.571 0.005312     True     None     None\n",
      "x_pos       14.31        0       32   0.1593     True     None     None\n",
      "y_pos       7.726        0       32   0.2705     True     None     None\n"
     ]
    }
   ],
   "source": [
    "params.pretty_print()"
   ]
  },
  {
   "cell_type": "code",
   "execution_count": 7,
   "metadata": {
    "ExecuteTime": {
     "end_time": "2018-06-20T15:16:45.865095Z",
     "start_time": "2018-06-20T15:16:45.445028Z"
    },
    "scrolled": false
   },
   "outputs": [
    {
     "name": "stdout",
     "output_type": "stream",
     "text": [
      "params : Parameters([('x_pos', <Parameter 'x_pos', value=14.305894604633949 +/- 0.159, bounds=[0:32]>), ('y_pos', <Parameter 'y_pos', value=7.725755384263746 +/- 0.271, bounds=[0:32]>), ('theta', <Parameter 'theta', value=0.20451580315562445 +/- 0.00531, bounds=[-1.5707963267948966:1.5707963267948966]>), ('sf_0', <Parameter 'sf_0', value=0.10113895438265275 +/- 0.00179, bounds=[0.001:inf]>), ('phase', <Parameter 'phase', value=-0.29890845891507284 +/- 0.106, bounds=[-inf:inf]>), ('B_sf', <Parameter 'B_sf', value=0.37545690182138414 +/- 0.0154, bounds=[0.001:inf]>), ('B_theta', <Parameter 'B_theta', value=0.16840243094402985 +/- 0.00736, bounds=[0.001:inf]>)]) , true :  14.6 8.5 0.20943951023931953 0.1\n"
     ]
    },
    {
     "data": {
      "image/png": "[encoded data removed]",
      "text/plain": [
       "<Figure size 1080x360 with 3 Axes>"
      ]
     },
     "metadata": {
      "needs_background": "light"
     },
     "output_type": "display_data"
    }
   ],
   "source": [
    "extent = (0, lg.pe.N_X, 0, lg.pe.N_Y)\n",
    "print(\"params :\", params, \", true : \", x_pos, y_pos, theta, sf_0)\n",
    "fig, axs = plt.subplots(1, 3, figsize=(15, 5))\n",
    "_ = axs[0].contourf(\n",
    "    data.reshape(lg.pe.N_X, lg.pe.N_Y),\n",
    "    8,\n",
    "    extent=extent,\n",
    "    cmap=plt.cm.viridis,\n",
    "    origin=\"upper\",\n",
    ")\n",
    "_ = axs[1].imshow(\n",
    "    data_noisy.reshape(lg.pe.N_X, lg.pe.N_Y), cmap=plt.cm.viridis, extent=extent\n",
    ")\n",
    "_ = axs[2].contourf(\n",
    "    data_fitted.reshape(lg.pe.N_X, lg.pe.N_Y),\n",
    "    8,\n",
    "    extent=extent,\n",
    "    cmap=plt.cm.viridis,\n",
    "    origin=\"upper\",\n",
    ")\n",
    "for ax in axs:\n",
    "    ax.axis(\"equal\")"
   ]
  },
  {
   "cell_type": "markdown",
   "metadata": {},
   "source": [
    "With periodic boundaries, check that the filter \"re-enters\" the image from  the other border:"
   ]
  },
  {
   "cell_type": "code",
   "execution_count": 8,
   "metadata": {
    "ExecuteTime": {
     "end_time": "2018-06-20T15:16:46.560491Z",
     "start_time": "2018-06-20T15:16:45.867344Z"
    }
   },
   "outputs": [
    {
     "name": "stdout",
     "output_type": "stream",
     "text": [
      "params : Parameters([('x_pos', <Parameter 'x_pos', value=14.305893862225966 +/- 0.159, bounds=[0:32]>), ('y_pos', <Parameter 'y_pos', value=7.725755287883015 +/- 0.271, bounds=[0:32]>), ('theta', <Parameter 'theta', value=0.20451580451903784 +/- 0.00531, bounds=[-1.5707963267948966:1.5707963267948966]>), ('sf_0', <Parameter 'sf_0', value=0.10113895477158497 +/- 0.00179, bounds=[0.001:inf]>), ('phase', <Parameter 'phase', value=-0.29890899924549347 +/- 0.106, bounds=[-inf:inf]>), ('B_sf', <Parameter 'B_sf', value=0.37545689608736066 +/- 0.0154, bounds=[0.001:inf]>), ('B_theta', <Parameter 'B_theta', value=0.16840243358123808 +/- 0.00736, bounds=[0.001:inf]>)]) , true :  14.6 8.5 0.20943951023931953 0.1\n"
     ]
    },
    {
     "data": {
      "image/png": "[encoded data removed]",
      "text/plain": [
       "<Figure size 1080x360 with 3 Axes>"
      ]
     },
     "metadata": {
      "needs_background": "light"
     },
     "output_type": "display_data"
    }
   ],
   "source": [
    "data_fitted, params = lg.LogGaborFit(\n",
    "    data_noisy.reshape(lg.pe.N_X, lg.pe.N_Y), do_border=False\n",
    ")\n",
    "extent = (0, lg.pe.N_X, 0, lg.pe.N_Y)\n",
    "print(\"params :\", params, \", true : \", x_pos, y_pos, theta, sf_0)\n",
    "fig, axs = plt.subplots(1, 3, figsize=(15, 5))\n",
    "_ = axs[0].contourf(\n",
    "    data.reshape(lg.pe.N_X, lg.pe.N_Y),\n",
    "    8,\n",
    "    extent=extent,\n",
    "    cmap=plt.cm.viridis,\n",
    "    origin=\"upper\",\n",
    ")\n",
    "_ = axs[1].imshow(\n",
    "    data_noisy.reshape(lg.pe.N_X, lg.pe.N_Y), cmap=plt.cm.viridis, extent=extent\n",
    ")\n",
    "_ = axs[2].contourf(\n",
    "    data_fitted.reshape(lg.pe.N_X, lg.pe.N_Y),\n",
    "    8,\n",
    "    extent=extent,\n",
    "    cmap=plt.cm.viridis,\n",
    "    origin=\"upper\",\n",
    ")\n",
    "for ax in axs:\n",
    "    ax.axis(\"equal\")"
   ]
  },
  {
   "cell_type": "markdown",
   "metadata": {},
   "source": [
    "[Back to top](#LogGabor-user-guide)"
   ]
  },
  {
   "cell_type": "markdown",
   "metadata": {},
   "source": [
    "## TODO: validation of fits"
   ]
  },
  {
   "cell_type": "markdown",
   "metadata": {},
   "source": [
    "[Back to top](#LogGabor-user-guide)"
   ]
  },
  {
   "cell_type": "markdown",
   "metadata": {},
   "source": [
    "## more book keeping"
   ]
  },
  {
   "cell_type": "code",
   "execution_count": 11,
   "metadata": {
    "ExecuteTime": {
     "end_time": "2018-06-20T15:16:46.610433Z",
     "start_time": "2018-06-20T15:16:46.562532Z"
    }
   },
   "outputs": [
    {
     "name": "stdout",
     "output_type": "stream",
     "text": [
      "The watermark extension is already loaded. To reload it, use:\n",
      "  %reload_ext watermark\n",
      "2020-09-08T16:56:12+02:00\n",
      "\n",
      "CPython 3.8.5\n",
      "IPython 7.16.1\n",
      "\n",
      "numpy 1.20.0.dev0+7d04e22\n",
      "matplotlib 3.2.2\n",
      "scipy 1.5.2\n",
      "imageio 2.9.0\n",
      "SLIP 20191113\n",
      "LogGabor 20191113\n",
      "\n",
      "compiler   : Clang 11.0.3 (clang-1103.0.32.62)\n",
      "system     : Darwin\n",
      "release    : 19.6.0\n",
      "machine    : x86_64\n",
      "processor  : i386\n",
      "CPU cores  : 36\n",
      "interpreter: 64bit\n",
      "host name  : fortytwo\n",
      "Git hash   : 8610d956aee6574a83ae83666bd5d8ebbd88a273\n",
      "Git repo   : https://github.com/bicv/LogGabor\n",
      "Git branch : master\n"
     ]
    }
   ],
   "source": [
    "%load_ext watermark\n",
    "%watermark -i -h -m -v -p numpy,matplotlib,scipy,imageio,SLIP,LogGabor  -r -g -b"
   ]
  },
  {
   "cell_type": "markdown",
   "metadata": {},
   "source": [
    "[Back to top](#LogGabor-user-guide)\n",
    "[Back to the LogGabor user guide](LogGabor.ipynb#LogGabor-user-guide)"
   ]
  }
 ],
 "metadata": {
  "kernelspec": {
   "display_name": "Python 3",
   "language": "python",
   "name": "python3"
  },
  "language_info": {
   "codemirror_mode": {
    "name": "ipython",
    "version": 3
   },
   "file_extension": ".py",
   "mimetype": "text/x-python",
   "name": "python",
   "nbconvert_exporter": "python",
   "pygments_lexer": "ipython3",
   "version": "3.8.5"
  },
  "toc": {
   "base_numbering": 1,
   "nav_menu": {
    "height": "279px",
    "width": "252px"
   },
   "number_sections": true,
   "sideBar": true,
   "skip_h1_title": false,
   "title_cell": "Table of Contents",
   "title_sidebar": "Contents",
   "toc_cell": false,
   "toc_position": {},
   "toc_section_display": "block",
   "toc_window_display": false
  }
 },
 "nbformat": 4,
 "nbformat_minor": 1
}
